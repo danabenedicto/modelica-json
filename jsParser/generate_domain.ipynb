{
 "cells": [
  {
   "cell_type": "code",
   "execution_count": 1,
   "metadata": {},
   "outputs": [],
   "source": [
    "import os"
   ]
  },
  {
   "cell_type": "code",
   "execution_count": 111,
   "metadata": {},
   "outputs": [],
   "source": [
    "folder = '/Users/akprakash/Programming/modelica/modelica-json/java/parser/src/main/java/gov/lbl/parser/domain'\n",
    "op_folder = '/Users/akprakash/Programming/modelica/modelica-json/jsParser/domain/'"
   ]
  },
  {
   "cell_type": "code",
   "execution_count": 134,
   "metadata": {},
   "outputs": [],
   "source": [
    "def convert(file, folder):\n",
    "    js=None\n",
    "    with open(os.path.join(folder, file)) as fp:\n",
    "        contents = fp.readlines()\n",
    "        \n",
    "        class_name = None\n",
    "        i = 0\n",
    "        js = \"\"\n",
    "        while i < len(contents):\n",
    "            l = contents[i]\n",
    "            line = l.strip().split('\\n')[0]\n",
    "            if (line == '\\n' or line == ''):\n",
    "                i+=1\n",
    "                continue\n",
    "                \n",
    "            if line.startswith(\"public class \"):\n",
    "                class_name = line.split(\"public class \")[1].split(' ')[0]\n",
    "                js+=\"class {} {{\\n\".format(class_name)\n",
    "            elif class_name is not None:\n",
    "                if line.startswith(\"public {}\".format(class_name)):\n",
    "                    if \"(\" in line and \")\" in line:\n",
    "                        variables = line.split(\"(\")[1].split(\")\")[0].split(\",\")\n",
    "                        constructor_line = \"\\tconstructor(\"\n",
    "                        variable_expr = \"\"\n",
    "                        for variable in variables:\n",
    "                            variable_name = variable.strip().split(' ')[1]\n",
    "                            constructor_line+=variable_name+\", \"\n",
    "                            variable_expr += \"\\t\\tthis.{} = {};\\n\".format(variable_name, variable_name)\n",
    "                        constructor_line=constructor_line[0: len(constructor_line)-2]+\") {\\n\"\n",
    "                        js+=constructor_line\n",
    "                        js+=variable_expr\n",
    "                        js+=\"\\t}\\n\"\n",
    "                elif line.startswith(\"this.\"):\n",
    "                    i+=1\n",
    "                    continue\n",
    "                elif line.startswith(\"private\"):\n",
    "                    i+=1\n",
    "                    continue\n",
    "            i+=1\n",
    "        js+=\"}\\n\"\n",
    "        js+=\"exports.{} = {}\\n\".format(class_name, class_name)\n",
    "    \n",
    "    return js\n",
    "            \n",
    "            "
   ]
  },
  {
   "cell_type": "code",
   "execution_count": 136,
   "metadata": {},
   "outputs": [],
   "source": [
    "# class class_name {\n",
    "#   constructor(method1, method2) {\n",
    "#     this.method1 = method1;\n",
    "#     this.method2= method2;\n",
    "#   }\n",
    "# }"
   ]
  },
  {
   "cell_type": "code",
   "execution_count": 137,
   "metadata": {},
   "outputs": [
    {
     "name": "stdout",
     "output_type": "stream",
     "text": [
      "91\n",
      "91\n"
     ]
    }
   ],
   "source": [
    "java_files = os.listdir(folder)\n",
    "print(len(java_files))\n",
    "for java_file in java_files:\n",
    "    if java_file.endswith('.java'):\n",
    "        op = convert(java_file, folder)\n",
    "        if op is None:\n",
    "            print(java_file)\n",
    "        else:\n",
    "            with open(\"{}.js\".format(op_folder+java_file.split('.java')[0]), \"w\") as fp:\n",
    "                fp.write(op)\n",
    "js_files = os.listdir(op_folder)\n",
    "print(len(js_files))"
   ]
  },
  {
   "cell_type": "code",
   "execution_count": null,
   "metadata": {},
   "outputs": [],
   "source": []
  }
 ],
 "metadata": {
  "kernelspec": {
   "display_name": "Python 3",
   "language": "python",
   "name": "python3"
  },
  "language_info": {
   "codemirror_mode": {
    "name": "ipython",
    "version": 3
   },
   "file_extension": ".py",
   "mimetype": "text/x-python",
   "name": "python",
   "nbconvert_exporter": "python",
   "pygments_lexer": "ipython3",
   "version": "3.8.3"
  }
 },
 "nbformat": 4,
 "nbformat_minor": 4
}
